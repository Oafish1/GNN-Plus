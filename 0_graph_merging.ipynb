{
 "cells": [
  {
   "cell_type": "code",
   "execution_count": 13,
   "id": "de43a602-df9f-42a8-8899-a53b0bb48fad",
   "metadata": {},
   "outputs": [],
   "source": [
    "from collections import defaultdict\n",
    "from itertools import product\n",
    "import math\n",
    "\n",
    "import numpy as np\n",
    "import pandas as pd"
   ]
  },
  {
   "cell_type": "code",
   "execution_count": 14,
   "id": "b9773b39-5f52-43f5-8b45-c144232875f1",
   "metadata": {},
   "outputs": [
    {
     "name": "stdout",
     "output_type": "stream",
     "text": [
      "Loading Metadata...\n"
     ]
    }
   ],
   "source": [
    "# Load data\n",
    "print('Loading Metadata...')\n",
    "data_folder = 'data/PsychAD_freeze2_personalized_grpahs/'\n",
    "meta = pd.read_csv(data_folder + 'syn26527784_latest.csv')"
   ]
  },
  {
   "cell_type": "code",
   "execution_count": 15,
   "id": "79154959-5b27-40db-a6ac-a4849a6380c6",
   "metadata": {},
   "outputs": [],
   "source": [
    "# Utility functions\n",
    "# Defaultdict with depth\n",
    "def deepdefaultdict(depth, default=None):\n",
    "    if depth == 0:\n",
    "        return None\n",
    "    return defaultdict(lambda: deepdefaultdict(depth-1, default=default))\n",
    "\n",
    "# Prune zero-length array entries from d=1 dict\n",
    "def prunedict(dic):\n",
    "    newdic = {}\n",
    "    for k in dic:\n",
    "        if len(dic[k]) > 0:\n",
    "            newdic[k] = dic[k]\n",
    "    return newdic\n",
    "\n",
    "# Convert to dict\n",
    "def dd2d(dd):\n",
    "    if type(dd) == type(defaultdict()):\n",
    "        for k in dd:\n",
    "            dd[k] = dd2d(dd[k])\n",
    "        return(dict(dd))\n",
    "    return dd"
   ]
  },
  {
   "cell_type": "code",
   "execution_count": 47,
   "id": "7e8dd1b3-5952-430d-b372-3d23ef391a7f",
   "metadata": {},
   "outputs": [
    {
     "name": "stdout",
     "output_type": "stream",
     "text": [
      "Gathering...\n",
      "BRAAK_AD: 0.0\tSex: Female\t(58 graphs)\n",
      "BRAAK_AD: 0.0\tSex: Male\t(128 graphs)\n",
      "BRAAK_AD: 1.0\tSex: Female\t(64 graphs)\n",
      "BRAAK_AD: 1.0\tSex: Male\t(65 graphs)\n",
      "BRAAK_AD: 2.0\tSex: Female\t(105 graphs)\n",
      "BRAAK_AD: 2.0\tSex: Male\t(82 graphs)\n",
      "BRAAK_AD: 3.0\tSex: Female\t(104 graphs)\n",
      "BRAAK_AD: 3.0\tSex: Male\t(80 graphs)\n",
      "BRAAK_AD: 4.0\tSex: Female\t(86 graphs)\n",
      "BRAAK_AD: 4.0\tSex: Male\t(52 graphs)\n",
      "BRAAK_AD: 5.0\tSex: Female\t(108 graphs)\n",
      "BRAAK_AD: 5.0\tSex: Male\t(44 graphs)\n",
      "BRAAK_AD: 6.0\tSex: Female\t(253 graphs)\n",
      "BRAAK_AD: 6.0\tSex: Male\t(153 graphs)\n",
      "BRAAK_AD: nan\tSex: Female\t(0 graphs)\n",
      "BRAAK_AD: nan\tSex: Male\t(0 graphs)\n"
     ]
    }
   ],
   "source": [
    "# Stratify by column\n",
    "print('Gathering...')\n",
    "stratify_cols = ['BRAAK_AD', 'Sex']\n",
    "graph_ids = {}\n",
    "unique_vals = [np.unique(meta[col]) for col in stratify_cols]\n",
    "for vals in product(*unique_vals):\n",
    "    print('\\t'.join([f'{col}: {val}' for col, val in zip(stratify_cols, vals)]), end='')\n",
    "    current_filter = np.array([True for _ in range(meta.shape[0])])\n",
    "    for col, val in zip(stratify_cols, vals):\n",
    "        current_filter *= (meta[col] == val)\n",
    "    # Don't include zero-length entries\n",
    "    graph_ids_vals = list(meta.loc[current_filter]['SubID'])\n",
    "    if len(graph_ids_vals) > 0:\n",
    "        graph_ids[vals] = graph_ids_vals\n",
    "    print(f'\\t({len(graph_ids_vals)} graphs)')"
   ]
  },
  {
   "cell_type": "code",
   "execution_count": null,
   "id": "50bd5755-a024-4f1f-ad3f-0076cc5e8ddd",
   "metadata": {},
   "outputs": [
    {
     "name": "stdout",
     "output_type": "stream",
     "text": [
      "Processing...\n",
      "BRAAK_AD: 0.0\tSex: Female (13 graphs)\n",
      "BRAAK_AD: 0.0\tSex: Male"
     ]
    }
   ],
   "source": [
    "# Aggregate graphs\n",
    "print('Processing...')\n",
    "processed_graphs = {}\n",
    "num_graphs = defaultdict(lambda: 0)\n",
    "for k, v in graph_ids.items():\n",
    "    print('\\t'.join([f'{col}: {val}' for col, val in zip(stratify_cols, k)]), end='')\n",
    "    running_graph = defaultdict(lambda: defaultdict(list))\n",
    "    for graph_id in v:\n",
    "        try:\n",
    "            graph = pd.read_csv(data_folder + f'regulon_grn/{graph_id}_regulon_list.csv')[['TF', 'gene', 'CoexWeight']]\n",
    "            num_graphs[k] += 1\n",
    "        except:\n",
    "            continue\n",
    "        graph = graph.rename(columns={'gene': 'TG', 'CoexWeight': 'coef'})\n",
    "        for _, row in graph.iterrows():\n",
    "            tf, tg, coef = row\n",
    "            running_graph[tf][tg].append(coef)\n",
    "    print(f' ({num_graphs[k]} graphs)')\n",
    "    processed_graphs[k] = dd2d(running_graph)\n",
    "num_graphs = dict(num_graphs)"
   ]
  },
  {
   "cell_type": "code",
   "execution_count": 6,
   "id": "138f9211-6f6a-48b0-a438-566bad641a86",
   "metadata": {},
   "outputs": [
    {
     "name": "stdout",
     "output_type": "stream",
     "text": [
      "Filtering...\n",
      "BRAAK_AD: 0.0 (889 edges)\n",
      "BRAAK_AD: 1.0 (456 edges)\n",
      "BRAAK_AD: 2.0 (410 edges)\n",
      "BRAAK_AD: 3.0 (1369 edges)\n",
      "BRAAK_AD: 4.0 (3383 edges)\n",
      "BRAAK_AD: 5.0 (527 edges)\n",
      "BRAAK_AD: 6.0 (531 edges)\n",
      "BRAAK_AD: nan (0 edges)\n"
     ]
    }
   ],
   "source": [
    "# Keep edges which have some references in common\n",
    "print('Filtering...')\n",
    "present_pct = .8\n",
    "edgelists = {}\n",
    "for k0, v0 in processed_graphs.items():\n",
    "    print(f'{stratify_col}: {k0}', end='')\n",
    "    min_edges = math.ceil(present_pct * num_graphs[k0])\n",
    "    edges = []\n",
    "    num_edges = 0\n",
    "    for k1, v1 in v0.items():\n",
    "        for k2, v2 in v1.items():\n",
    "            if len(v2) >= min_edges:\n",
    "                edges.append([k1, k2, np.mean(v2)])\n",
    "                num_edges += 1\n",
    "    print(f' ({num_edges} edges)')\n",
    "    edgelists[k0] = edges"
   ]
  },
  {
   "cell_type": "code",
   "execution_count": 7,
   "id": "4356301d-eb35-4e4e-8125-447046df6c78",
   "metadata": {},
   "outputs": [
    {
     "name": "stdout",
     "output_type": "stream",
     "text": [
      "Saving...\n",
      "BRAAK_AD: 0.0\n",
      "BRAAK_AD: 1.0\n",
      "BRAAK_AD: 2.0\n",
      "BRAAK_AD: 3.0\n",
      "BRAAK_AD: 4.0\n",
      "BRAAK_AD: 5.0\n",
      "BRAAK_AD: 6.0\n",
      "BRAAK_AD: nan\n"
     ]
    }
   ],
   "source": [
    "print('Saving...')\n",
    "for k, v in processed_graphs.items():\n",
    "    print(f'{stratify_col}: {k}')\n",
    "    pd.DataFrame(edgelists[k], columns=['TF', 'TG', 'coef']).to_csv(data_folder + f'processed/grn_{stratify_col}_{k}.csv')"
   ]
  },
  {
   "cell_type": "code",
   "execution_count": 8,
   "id": "21d295df-4f88-4a5f-8199-4c26562fd89e",
   "metadata": {},
   "outputs": [
    {
     "name": "stdout",
     "output_type": "stream",
     "text": [
      "Detecting Appearing Edges...\n",
      "BRAAK_AD: 0.0 (889)\n",
      "BRAAK_AD: 1.0 (1)\n",
      "BRAAK_AD: 2.0 (5)\n",
      "BRAAK_AD: 3.0 (8)\n",
      "BRAAK_AD: 4.0 (284)\n",
      "BRAAK_AD: 5.0 (0)\n",
      "BRAAK_AD: 6.0 (0)\n",
      "\n",
      "Detecting Vanishing Edges...\n",
      "BRAAK_AD: 0.0 (0)\n",
      "BRAAK_AD: 1.0 (1)\n",
      "BRAAK_AD: 2.0 (0)\n",
      "BRAAK_AD: 3.0 (6)\n",
      "BRAAK_AD: 4.0 (1052)\n",
      "BRAAK_AD: 5.0 (0)\n",
      "BRAAK_AD: 6.0 (531)\n"
     ]
    }
   ],
   "source": [
    "# Get binary edges\n",
    "binary_edgelists = {k: np.array(v)[:, :2] for k, v in edgelists.items() if len(v) > 0}\n",
    "\n",
    "# Filter to uniquely appearing edges (per stage)\n",
    "print('Detecting Appearing Edges...')\n",
    "binary_unique_edgelists = defaultdict(list)\n",
    "for k0, graph0 in binary_edgelists.items():\n",
    "    print(f'{stratify_col}: {k0}', end='')\n",
    "    num_edges = 0\n",
    "    for edge in graph0:\n",
    "        for k1, graph1 in binary_edgelists.items():\n",
    "            if k1 >= k0:\n",
    "                continue\n",
    "            if edge in graph1:\n",
    "                break\n",
    "        else:  # Only if for loop completes\n",
    "            binary_unique_edgelists[k0].append(edge)\n",
    "            num_edges += 1\n",
    "    print(f' ({num_edges})')\n",
    "binary_unique_edgelists = {k: np.stack(v) for k, v in binary_unique_edgelists.items()}\n",
    "\n",
    "print()\n",
    "# Filter to uniquely disappearing edges (per stage)\n",
    "print('Detecting Vanishing Edges...')\n",
    "binary_unique_edgelists_rev = defaultdict(list)\n",
    "for k0, graph0 in binary_edgelists.items():\n",
    "    print(f'{stratify_col}: {k0}', end='')\n",
    "    num_edges = 0\n",
    "    for edge in graph0:\n",
    "        for k1, graph1 in binary_edgelists.items():\n",
    "            if k1 <= k0:\n",
    "                continue\n",
    "            if edge in graph1:\n",
    "                break\n",
    "        else:  # Only if for loop completes\n",
    "            binary_unique_edgelists_rev[k0].append(edge)\n",
    "            num_edges += 1\n",
    "    print(f' ({num_edges})')\n",
    "binary_unique_edgelists_rev = {k: np.stack(v) for k, v in binary_unique_edgelists_rev.items()}"
   ]
  },
  {
   "cell_type": "code",
   "execution_count": 15,
   "id": "4eecd122-202b-4d8f-9f7b-00dd12a60a32",
   "metadata": {
    "scrolled": true,
    "tags": []
   },
   "outputs": [
    {
     "name": "stdout",
     "output_type": "stream",
     "text": [
      "Appearing Edges...\n",
      "BRAAK_AD: 0.0\n",
      "Top TFs:  RUNX1 FLI1 ZEB1 ETV6 TCF7L2 FOXP2 MAF SOX10 DLX1 TCF7L1 BACH1 SOX5 SOX8 ETS1 ETS2 ARX LHX6\n",
      "Top TGs:  ARHGAP6 ZFHX3 DISC1 MEF2C NCK2 RIN3 CHST11 MAML3 HS3ST4 DENND3 ZFP36L1 RCSD1 BNC2 LHFPL2 LPAR6 KCNIP1 LPCAT2 LYN LRRK1 LY86\n",
      "\n",
      "BRAAK_AD: 1.0\n",
      "Top TFs:  JUND\n",
      "Top TGs:  PTMA\n",
      "\n",
      "BRAAK_AD: 2.0\n",
      "Top TFs:  MXI1 SOX6\n",
      "Top TGs:  CADM1 FBXL7 ITGB8 TJP1 ZNF462\n",
      "\n",
      "BRAAK_AD: 3.0\n",
      "Top TFs:  CREB5 ETV4 JUN STAT1\n",
      "Top TGs:  CDH19 DHX8 DLG1 FILIP1L ID2 MAP7 PRUNE2 USP54\n",
      "\n",
      "BRAAK_AD: 4.0\n",
      "Top TFs:  IKZF1 FOS REL SREBF2 ERG JUNB ONECUT2 SPI1 SREBF1\n",
      "Top TGs:  TFEC SRGN CD4 NCKAP1L C1QB PIK3R5 AAK1 RALGAPA2 RAC1 RAB8B RAB2A QSER1 PYGL PUM1 PTPN22 PTPN2 RAB20 RANBP9 RAP1GAP2 RAPH1\n",
      "\n"
     ]
    }
   ],
   "source": [
    "print('Appearing Edges...')\n",
    "for k, v in binary_unique_edgelists.items():\n",
    "    print(f'{stratify_col}: {k}')\n",
    "    print('Top TFs: ', end='')\n",
    "    genes, counts = np.unique(v[:, 0], return_counts=True)\n",
    "    for gene in genes[np.argsort(-counts)][:20]:\n",
    "        print(f' {gene}', end='')\n",
    "    print()\n",
    "    print('Top TGs: ', end='')\n",
    "    genes, counts = np.unique(v[:, 1], return_counts=True)\n",
    "    for gene in genes[np.argsort(-counts)][:20]:\n",
    "        print(f' {gene}', end='')\n",
    "    print()\n",
    "    print()"
   ]
  },
  {
   "cell_type": "code",
   "execution_count": 14,
   "id": "6a82760a-bef2-46c6-8688-2397c95d565b",
   "metadata": {
    "scrolled": true,
    "tags": []
   },
   "outputs": [
    {
     "name": "stdout",
     "output_type": "stream",
     "text": [
      "Vanishing Edges...\n",
      "BRAAK_AD: 1.0\n",
      "Top TFs:  JUND\n",
      "Top TGs:  PTMA\n",
      "\n",
      "BRAAK_AD: 3.0\n",
      "Top TFs:  CREB5 ETV4 STAT1\n",
      "Top TGs:  DHX8 DLG1 FILIP1L MAP7 PRUNE2 USP54\n",
      "\n",
      "BRAAK_AD: 4.0\n",
      "Top TFs:  FLI1 IKZF1 DLX1 FOXO1 LHX6 ARX MXI1 REL FOS ELF1 SREBF2 JUN JUNB BCL6 ERG SREBF1 MEF2C ONECUT2 SPI1 ETS1\n",
      "Top TGs:  NCKAP1L SAMSN1 HIVEP3 TFEC C1QB PRKCD SRGN LCP2 GRIN3A CD53 CD4 ANK1 PIK3R5 ITM2B JAK3 JDP2 SPTLC3 SRBD1 ZNRF2 ITGAX\n",
      "\n",
      "BRAAK_AD: 6.0\n",
      "Top TFs:  ETV6 ZEB1 RUNX1 TCF7L2 SOX10 TCF7L1 SOX8 FOXP2 ETS2 MAF SOX5\n",
      "Top TGs:  PRRX1 CELF2 ZFP36L1 ZFHX3 DENND3 SLCO2B1 CHST11 HS3ST4 GLIS3 GNB4 GPRIN3 GRB2 SFMBT2 HIF1A ZNF710 IFNGR1 INPP5D ITPR2 JAK2 RREB1\n",
      "\n"
     ]
    }
   ],
   "source": [
    "print('Vanishing Edges...')\n",
    "for k, v in binary_unique_edgelists_rev.items():\n",
    "    print(f'{stratify_col}: {k}')\n",
    "    print('Top TFs: ', end='')\n",
    "    genes, counts = np.unique(v[:, 0], return_counts=True)\n",
    "    for gene in genes[np.argsort(-counts)][:20]:\n",
    "        print(f' {gene}', end='')\n",
    "    print()\n",
    "    print('Top TGs: ', end='')\n",
    "    genes, counts = np.unique(v[:, 1], return_counts=True)\n",
    "    for gene in genes[np.argsort(-counts)][:20]:\n",
    "        print(f' {gene}', end='')\n",
    "    print()\n",
    "    print()"
   ]
  },
  {
   "cell_type": "code",
   "execution_count": null,
   "id": "aae1f07a-c7c3-465b-b6bc-0e20a46b0c55",
   "metadata": {},
   "outputs": [],
   "source": []
  }
 ],
 "metadata": {
  "kernelspec": {
   "display_name": "Python 3 (ipykernel)",
   "language": "python",
   "name": "python3"
  },
  "language_info": {
   "codemirror_mode": {
    "name": "ipython",
    "version": 3
   },
   "file_extension": ".py",
   "mimetype": "text/x-python",
   "name": "python",
   "nbconvert_exporter": "python",
   "pygments_lexer": "ipython3",
   "version": "3.9.5"
  }
 },
 "nbformat": 4,
 "nbformat_minor": 5
}
