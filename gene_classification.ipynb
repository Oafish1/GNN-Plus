{
 "cells": [
  {
   "cell_type": "code",
   "execution_count": 1,
   "id": "9b0ac0f1-9a18-4e03-954a-4d272c3b5d8d",
   "metadata": {},
   "outputs": [],
   "source": [
    "import os\n",
    "from itertools import product\n",
    "\n",
    "import matplotlib.pyplot as plt\n",
    "import networkx as nx\n",
    "import numpy as np\n",
    "import pandas as pd\n",
    "import pecanpy as pp\n",
    "import scipy\n",
    "import seaborn as sns\n",
    "from sklearn.decomposition import PCA\n",
    "from sklearn.metrics import auc, confusion_matrix, precision_recall_curve, roc_curve\n",
    "from sklearn.neighbors import KNeighborsRegressor\n",
    "from sklearn.neural_network import MLPClassifier\n",
    "import torch\n",
    "import torch.nn as nn\n",
    "import torch.nn.functional as F\n",
    "import torch_geometric as tg\n",
    "import torch_geometric.nn as gnn\n",
    "from umap import UMAP"
   ]
  },
  {
   "cell_type": "code",
   "execution_count": 2,
   "id": "4fca094d-6ce4-4a96-8fdd-e2bf01c5c8c6",
   "metadata": {},
   "outputs": [],
   "source": [
    "np.random.seed(42)"
   ]
  },
  {
   "cell_type": "markdown",
   "id": "f0143b74-a2c8-493b-83a6-8a684b8d8ab1",
   "metadata": {
    "tags": []
   },
   "source": [
    "# Dataset"
   ]
  },
  {
   "cell_type": "code",
   "execution_count": 3,
   "id": "46e4613c-a6f0-4596-bd91-04a635309a21",
   "metadata": {},
   "outputs": [],
   "source": [
    "loaded_data = {}\n",
    "def get_data(cell_type):\n",
    "    # Get graph\n",
    "    data_folder = './data/training_matrices_DGL/'\n",
    "    if cell_type in loaded_data:\n",
    "        mat = loaded_data[cell_type]\n",
    "    else:\n",
    "        mat = pd.read_csv(data_folder + f'{cell_type}.feat.mat', index_col=0, sep='\\t')\n",
    "        loaded_data[cell_type] = mat\n",
    "    genes = np.array(mat.columns)\n",
    "    assert (genes == np.array(mat.index)).all()\n",
    "\n",
    "    # Get labels\n",
    "    meta = pd.read_csv(data_folder + 'training_labels.txt', index_col=0, sep='\\t')\n",
    "    labels = meta.values[:, 0]\n",
    "    labels = np.array([str(meta.loc[g]['label']) if g in meta.index else 'unknown' for g in genes])\n",
    "\n",
    "    return mat.to_numpy(), labels, genes"
   ]
  },
  {
   "cell_type": "code",
   "execution_count": 4,
   "id": "dec6dd93-7f51-4788-bf5d-69895399ec23",
   "metadata": {},
   "outputs": [
    {
     "name": "stdout",
     "output_type": "stream",
     "text": [
      "Astrocyte\n",
      "Endothelial\n",
      "GABAergic_neuron\n",
      "GABAergic_PVALB_interneuron\n",
      "GABAergic_SST_interneuron\n",
      "GABAergic_VIP_interneuron\n",
      "Glutamatergic_neuron\n",
      "Microglia\n",
      "Mural\n",
      "--Oligodendrocyte\n",
      "OPC\n"
     ]
    }
   ],
   "source": [
    "cell_types = np.array([f[:-9] for f in os.listdir('./data/training_matrices_DGL') if '.mat' in f])\n",
    "cell_type = cell_types[9]\n",
    "for ct in cell_types:\n",
    "    print(ct) if ct != cell_type else print(f'--{ct}')"
   ]
  },
  {
   "cell_type": "code",
   "execution_count": 5,
   "id": "d407569f-ecff-4a5f-b328-e0d0fa4dab04",
   "metadata": {},
   "outputs": [
    {
     "name": "stdout",
     "output_type": "stream",
     "text": [
      "Loading Oligodendrocyte data...\n",
      "Constructing graph...\n"
     ]
    },
    {
     "data": {
      "image/png": "[encoded data removed]",
      "text/plain": [
       "<Figure size 500x500 with 1 Axes>"
      ]
     },
     "metadata": {},
     "output_type": "display_data"
    }
   ],
   "source": [
    "print(f'Loading {cell_type} data...')\n",
    "# Load data\n",
    "data, labels, genes = get_data(cell_type)\n",
    "\n",
    "# Eliminate unwanted data\n",
    "percentile = 90\n",
    "reg_threshold = np.percentile(data.flatten(), percentile)\n",
    "np.random.seed(42)\n",
    "sns.displot(np.random.choice(data.flatten(), 1000))\n",
    "\n",
    "print('Constructing graph...')\n",
    "# Get edgelist\n",
    "g = pp.graph.AdjlstGraph()\n",
    "for i in range(data.shape[0]):\n",
    "    for j in range(i+1, data.shape[0]):\n",
    "        weight = float(data[i][j])\n",
    "        if weight != 0 and weight >= reg_threshold:\n",
    "            g.add_edge(genes[i], genes[j], weight=weight, directed=False)\n",
    "g.save('_elist.edg')"
   ]
  },
  {
   "cell_type": "markdown",
   "id": "a320aadd-e0e1-4ac1-bc7a-bc688da2754d",
   "metadata": {},
   "source": [
    "# Models"
   ]
  },
  {
   "cell_type": "code",
   "execution_count": 6,
   "id": "6494a484-84ff-4acc-a237-23e8df2e5edb",
   "metadata": {},
   "outputs": [],
   "source": [
    "# from torch_geometric.datasets import Planetoid\n",
    "# cora = Planetoid(root='/tmp/Cora', name='Cora')\n",
    "# cora[0].x"
   ]
  },
  {
   "cell_type": "code",
   "execution_count": 7,
   "id": "bf3df6d2-d65e-4760-a629-ce430e81f416",
   "metadata": {},
   "outputs": [
    {
     "name": "stdout",
     "output_type": "stream",
     "text": [
      "Reading graph...\n"
     ]
    }
   ],
   "source": [
    "print('Reading graph...')\n",
    "# Load as precomp\n",
    "g = pp.pecanpy.SparseOTF(p=1, q=1, workers=4, verbose=True)\n",
    "g.read_edg('_elist.edg', weighted=True, directed=False)\n",
    "# g.preprocess_transition_probs()"
   ]
  },
  {
   "cell_type": "code",
   "execution_count": 8,
   "id": "a40a4027-6f59-405c-baa5-e0541df39b6e",
   "metadata": {},
   "outputs": [
    {
     "name": "stdout",
     "output_type": "stream",
     "text": [
      "Loading embeddings...\n"
     ]
    }
   ],
   "source": [
    "dim, num_walks, walk_length = 32, 10, 20\n",
    "reg_threshold_str = f'-{reg_threshold}' if percentile != 0 else ''\n",
    "fname = f'embeddings-{cell_type}-{dim}-{num_walks}-{walk_length}{reg_threshold_str}.npy'\n",
    "if os.path.exists(fname):\n",
    "    print('Loading embeddings...')\n",
    "    # Load embeddings\n",
    "    emb_pp = np.load(fname)\n",
    "else:\n",
    "    print('Generating embeddings...')\n",
    "    # Generate embeddings\n",
    "    emb_pp = g.embed(dim=dim, num_walks=num_walks, walk_length=walk_length)\n",
    "    np.save(fname, emb_pp)\n",
    "\n",
    "# Chart connected subgraph\n",
    "surviving_nodes = [np.argwhere(genes==gn).flatten()[0] for gn in g.nodes]"
   ]
  },
  {
   "cell_type": "code",
   "execution_count": 9,
   "id": "6dbd4d1f-18a0-482b-be5c-fead48fa9339",
   "metadata": {},
   "outputs": [
    {
     "name": "stdout",
     "output_type": "stream",
     "text": [
      "0 nodes excluded\n"
     ]
    },
    {
     "data": {
      "text/plain": [
       "Data(x=[13066, 32], edge_index=[2, 18893206], y=[13066], edge_weight=[18893206], train_mask=[13066], val_mask=[13066])"
      ]
     },
     "execution_count": 9,
     "metadata": {},
     "output_type": "execute_result"
    }
   ],
   "source": [
    "# Load dataset\n",
    "elist = np.loadtxt('_elist.edg', dtype=str)\n",
    "gene_to_index = {g: i for g, i in zip(genes, range(len(genes)))}\n",
    "index_to_survive = {n: i for i, n in enumerate(surviving_nodes)}\n",
    "edge_index = np.array([[gene_to_index[f] for f in e[:2]] for e in elist]).T\n",
    "edge_index = np.array([[index_to_survive[n] if (n in index_to_survive) else -1 for n in row] for row in edge_index])\n",
    "edge_weight = np.array([float(e[2]) for e in elist])\n",
    "# Remove nodes without embedding\n",
    "present = ~np.sum(np.array([[e==-1 for e in row] for row in edge_index]), axis=0).astype(bool)\n",
    "print(f'{sum(~present)} nodes excluded')\n",
    "edge_index, edge_weight = edge_index[:, present], edge_weight[present]\n",
    "# Add embeddings and labels\n",
    "x = emb_pp\n",
    "y = np.array([{'AD': 1, 'notAD': 0, 'unknown': 2}[l] for l in labels[surviving_nodes]])\n",
    "\n",
    "# Split data\n",
    "np.random.seed(42)\n",
    "unknown_idx = np.argwhere(y==2).flatten()\n",
    "train_frac = .8\n",
    "train_idx = np.random.choice(x.shape[0], int(train_frac * x.shape[0]), replace=False)\n",
    "train_idx = np.array(list(set(train_idx) - set(unknown_idx)))\n",
    "train_mask = np.zeros(x.shape[0], dtype=bool)\n",
    "train_mask[train_idx] = True\n",
    "val_idx = np.array(list(set(list(range(x.shape[0]))) - set(train_idx)))\n",
    "val_idx = np.array(list(set(val_idx) - set(unknown_idx)))\n",
    "val_mask = np.zeros(x.shape[0], dtype=bool)\n",
    "val_mask[val_idx] = True\n",
    "\n",
    "# Create dataset\n",
    "dataset = tg.data.Data(\n",
    "    x=torch.tensor(x).float(),\n",
    "    edge_index=torch.tensor(edge_index, dtype=int),\n",
    "    edge_weight=torch.tensor(edge_weight).float(),\n",
    "    y=torch.tensor(y, dtype=int),\n",
    "    train_mask=torch.tensor(train_mask),\n",
    "    val_mask=torch.tensor(val_mask))\n",
    "dataset"
   ]
  },
  {
   "cell_type": "code",
   "execution_count": 10,
   "id": "29148103-d097-447d-80a2-db5247aa3b85",
   "metadata": {},
   "outputs": [],
   "source": [
    "# Make model\n",
    "class GCN(torch.nn.Module):\n",
    "    def __init__(self):\n",
    "        super().__init__()\n",
    "        self.encode = gnn.Sequential('x, edge_index, edge_weight', [\n",
    "            # (nn.Linear(32, 64), 'x -> x'),\n",
    "            (gnn.GCNConv(32, 64), 'x, edge_index, edge_weight -> x'),\n",
    "            (nn.LeakyReLU(), 'x -> x'),\n",
    "            (gnn.GCNConv(64, 32), 'x, edge_index, edge_weight -> x'),\n",
    "            (nn.LeakyReLU(), 'x -> x'),\n",
    "            (gnn.GCNConv(32, 16), 'x, edge_index, edge_weight -> x'),\n",
    "            (nn.LeakyReLU(), 'x -> x'),\n",
    "        ])\n",
    "        self.decode = gnn.Sequential('x, edge_index, edge_weight', [\n",
    "            # (nn.Linear(16, 2), 'x -> x'),\n",
    "            (gnn.GCNConv(16, 2), 'x, edge_index, edge_weight -> x'),\n",
    "            (nn.LogSoftmax(dim=-1), 'x -> x'),\n",
    "        ])\n",
    "\n",
    "    def forward(self, data):\n",
    "        x, edge_index, edge_weight = data.x, data.edge_index, data.edge_weight\n",
    "        return self.decode(self.encode(x, edge_index, edge_weight), edge_index, edge_weight)"
   ]
  },
  {
   "cell_type": "code",
   "execution_count": null,
   "id": "494c4eac-cdb8-4c55-82aa-cb94bb8c5a2f",
   "metadata": {
    "scrolled": true,
    "tags": []
   },
   "outputs": [
    {
     "name": "stdout",
     "output_type": "stream",
     "text": [
      "Epoch 0\n",
      "Train Loss: 0.6606\n",
      "Valid Loss: 0.6610\n",
      "Epoch 10\n",
      "Train Loss: 0.6447\n",
      "Valid Loss: 0.6450\n",
      "Epoch 20\n",
      "Train Loss: 0.6292\n",
      "Valid Loss: 0.6295\n",
      "Epoch 30\n",
      "Train Loss: 0.6137\n",
      "Valid Loss: 0.6139\n",
      "Epoch 40\n",
      "Train Loss: 0.5976\n",
      "Valid Loss: 0.5978\n",
      "Epoch 50\n",
      "Train Loss: 0.5803\n",
      "Valid Loss: 0.5805\n",
      "Epoch 60\n",
      "Train Loss: 0.5621\n",
      "Valid Loss: 0.5623\n",
      "Epoch 70\n",
      "Train Loss: 0.5436\n",
      "Valid Loss: 0.5438\n",
      "Epoch 80\n",
      "Train Loss: 0.5245\n",
      "Valid Loss: 0.5247\n",
      "Epoch 90\n",
      "Train Loss: 0.5047\n",
      "Valid Loss: 0.5048\n",
      "Epoch 100\n",
      "Train Loss: 0.4850\n",
      "Valid Loss: 0.4849\n",
      "Epoch 110\n",
      "Train Loss: 0.4657\n",
      "Valid Loss: 0.4654\n",
      "Epoch 120\n",
      "Train Loss: 0.4467\n",
      "Valid Loss: 0.4461\n",
      "Epoch 130\n",
      "Train Loss: 0.4282\n",
      "Valid Loss: 0.4272\n",
      "Epoch 140\n",
      "Train Loss: 0.4099\n",
      "Valid Loss: 0.4085\n",
      "Epoch 150\n",
      "Train Loss: 0.3915\n",
      "Valid Loss: 0.3896\n",
      "Epoch 160\n",
      "Train Loss: 0.3728\n",
      "Valid Loss: 0.3703\n",
      "Epoch 170\n",
      "Train Loss: 0.3536\n",
      "Valid Loss: 0.3505\n",
      "Epoch 180\n",
      "Train Loss: 0.3350\n",
      "Valid Loss: 0.3313\n",
      "Epoch 190\n",
      "Train Loss: 0.3178\n",
      "Valid Loss: 0.3133\n",
      "Epoch 200\n",
      "Train Loss: 0.3023\n",
      "Valid Loss: 0.2971\n",
      "Epoch 210\n",
      "Train Loss: 0.2884\n",
      "Valid Loss: 0.2824\n",
      "Epoch 220\n",
      "Train Loss: 0.2759\n",
      "Valid Loss: 0.2691\n",
      "Epoch 230\n",
      "Train Loss: 0.2647\n",
      "Valid Loss: 0.2571\n",
      "Epoch 240\n",
      "Train Loss: 0.2544\n",
      "Valid Loss: 0.2461\n",
      "Epoch 250\n",
      "Train Loss: 0.2451\n",
      "Valid Loss: 0.2361\n",
      "Epoch 260\n",
      "Train Loss: 0.2371\n",
      "Valid Loss: 0.2273\n",
      "Epoch 270\n",
      "Train Loss: 0.2303\n",
      "Valid Loss: 0.2198\n",
      "Epoch 280\n",
      "Train Loss: 0.2245\n",
      "Valid Loss: 0.2135\n",
      "Epoch 290\n",
      "Train Loss: 0.2197\n",
      "Valid Loss: 0.2081\n",
      "Epoch 300\n",
      "Train Loss: 0.2157\n",
      "Valid Loss: 0.2036\n",
      "Epoch 310\n",
      "Train Loss: 0.2123\n",
      "Valid Loss: 0.1997\n",
      "Epoch 320\n",
      "Train Loss: 0.2094\n",
      "Valid Loss: 0.1964\n",
      "Epoch 330\n",
      "Train Loss: 0.2070\n",
      "Valid Loss: 0.1936\n",
      "Epoch 340\n",
      "Train Loss: 0.2050\n",
      "Valid Loss: 0.1912\n",
      "Epoch 350\n",
      "Train Loss: 0.2033\n",
      "Valid Loss: 0.1891\n",
      "Epoch 360\n",
      "Train Loss: 0.2018\n",
      "Valid Loss: 0.1874\n",
      "Epoch 370\n",
      "Train Loss: 0.2006\n",
      "Valid Loss: 0.1859\n",
      "Epoch 380\n",
      "Train Loss: 0.1996\n",
      "Valid Loss: 0.1847\n"
     ]
    }
   ],
   "source": [
    "# Train model\n",
    "device = torch.device('cuda' if torch.cuda.is_available() else 'cpu')\n",
    "model = GCN().to(device)\n",
    "data = dataset.to(device)\n",
    "optimizer = torch.optim.Adam(model.parameters(), lr=1e-4, weight_decay=5e-4)\n",
    "\n",
    "model.train()\n",
    "min_loss = np.inf; lapses = 0; max_lapses = 50\n",
    "for epoch in range(10_001):\n",
    "    optimizer.zero_grad()\n",
    "    out = model(data)\n",
    "    loss = F.nll_loss(out[data.train_mask], data.y[data.train_mask])\n",
    "    loss.backward()\n",
    "    optimizer.step()\n",
    "    if loss < min_loss:\n",
    "        min_loss = loss.detach()\n",
    "        lapses = 0\n",
    "    else:\n",
    "        lapses += 1\n",
    "    if lapses >= max_lapses:\n",
    "        print(f'Epoch {epoch}\\nTrain Loss: {float(loss.detach()):.4f}\\nValid Loss: {float(val_loss.detach()):.4f}')\n",
    "        break\n",
    "    if epoch % 10 == 0:\n",
    "        val_loss = F.nll_loss(out[data.val_mask], data.y[data.val_mask])\n",
    "        print(f'Epoch {epoch}\\nTrain Loss: {float(loss.detach()):.4f}\\nValid Loss: {float(val_loss.detach()):.4f}')\n",
    "model.eval();"
   ]
  },
  {
   "cell_type": "code",
   "execution_count": null,
   "id": "5b304653-58f4-46cc-88be-591af1776f7f",
   "metadata": {},
   "outputs": [],
   "source": [
    "pred_raw = model(data).detach()\n",
    "pred = pred_raw.argmax(dim=1)\n",
    "threshold = pred_raw[train_idx, 1].flatten().quantile(1 - (sum(labels=='AD') / (sum(labels=='AD') + sum(labels=='notAD'))))\n",
    "\n",
    "print('Evaluating performance...')\n",
    "print('Train')\n",
    "## Train\n",
    "# Perform prediction\n",
    "logits = pred_raw[:, 1][data.train_mask]\n",
    "trans = {'AD': 1, 'notAD': 0, 'unknown': 2}\n",
    "trans_inv = {v: k for k, v in trans.items()}\n",
    "true = torch.Tensor([trans[l] for l in labels[surviving_nodes][train_idx]]).long()\n",
    "\n",
    "# Get confusion\n",
    "conf = confusion_matrix(true, 1*(logits > threshold))\n",
    "print('T\\P\\t' + '\\t'.join([trans_inv[i] for i in range(len(trans_inv)-1)]))\n",
    "for i, row in enumerate(conf):\n",
    "    print(trans_inv[i] + '\\t' + '\\t'.join([str(e) for e in row]))\n",
    "\n",
    "# Other statistics\n",
    "fpr, tpr, thresholds = roc_curve(true[np.argwhere(true!=2).squeeze()], logits[np.argwhere(true!=2).squeeze()])\n",
    "print(f'AUROC:\\t{auc(fpr, tpr):.4f}')\n",
    "prec, rec, thresholds = precision_recall_curve(true[np.argwhere(true!=2).squeeze()], logits[np.argwhere(true!=2).squeeze()])\n",
    "print(f'AUPRC:\\t{auc(rec, prec):.4f}')\n",
    "correct = (pred[data.train_mask] == data.y[data.train_mask]).sum()\n",
    "acc = int(correct) / int(data.train_mask.sum())\n",
    "print(f'Accuracy: {acc:.4f}')\n",
    "print()\n",
    "\n",
    "print('Eval')\n",
    "## Eval\n",
    "# Perform prediction\n",
    "logits = pred_raw[:, 1][data.val_mask]\n",
    "trans = {'AD': 1, 'notAD': 0, 'unknown': 2}\n",
    "trans_inv = {v: k for k, v in trans.items()}\n",
    "true = torch.Tensor([trans[l] for l in labels[surviving_nodes][val_idx]]).long()\n",
    "\n",
    "# Get confusion\n",
    "conf = confusion_matrix(true, 1*(logits > threshold))\n",
    "print('T\\P\\t' + '\\t'.join([trans_inv[i] for i in range(len(trans_inv))]))\n",
    "for i, row in enumerate(conf):\n",
    "    print(trans_inv[i] + '\\t' + '\\t'.join([str(e) for e in row]))\n",
    "\n",
    "# Other statistics\n",
    "fpr, tpr, thresholds = roc_curve(true[np.argwhere(true!=2).squeeze()], logits[np.argwhere(true!=2).squeeze()])\n",
    "print(f'AUROC:\\t{auc(fpr, tpr):.4f}')\n",
    "prec, rec, thresholds = precision_recall_curve(true[np.argwhere(true!=2).squeeze()], logits[np.argwhere(true!=2).squeeze()])\n",
    "print(f'AUPRC:\\t{auc(rec, prec):.4f}')\n",
    "correct = (pred[data.val_mask] == data.y[data.val_mask]).sum()\n",
    "acc = int(correct) / int(data.val_mask.sum())\n",
    "print(f'Accuracy: {acc:.4f}')\n",
    "print()"
   ]
  },
  {
   "cell_type": "markdown",
   "id": "8bebb5f4-f643-44cf-80b8-3706f0693715",
   "metadata": {
    "tags": []
   },
   "source": [
    "# Visualization"
   ]
  },
  {
   "cell_type": "code",
   "execution_count": null,
   "id": "c18e1eee-c70b-4dff-8d4b-9dd46198ef2e",
   "metadata": {},
   "outputs": [],
   "source": [
    "style='white'\n",
    "sns.set(style=style)\n",
    "plt.rcParams.update({'font.weight': 'normal',\n",
    "                     'font.size': 18,\n",
    "                     'axes.titlesize': 'large',\n",
    "                     'axes.labelsize': 'large',\n",
    "                     'xtick.labelsize': 'small',\n",
    "                     'ytick.labelsize': 'small'})\n",
    "sns.set_palette('husl', len(np.unique(labels)))"
   ]
  },
  {
   "cell_type": "code",
   "execution_count": null,
   "id": "5adc8be0-54ee-4206-8bdc-d37fef8aa2e6",
   "metadata": {},
   "outputs": [],
   "source": [
    "name_map = {'AD': 'AD', 'notAD': 'Not AD', 'unknown': 'Unknown'}\n",
    "color_map = {'AD': 'red', 'notAD': 'blue', 'unknown': 'black'}\n",
    "z_map = {'AD': 2, 'notAD': 1, 'unknown': 0}\n",
    "s_map = {'AD': 10., 'notAD': 1., 'unknown': .5}"
   ]
  },
  {
   "cell_type": "code",
   "execution_count": null,
   "id": "cbc909b5-91c0-453c-bfb3-c45fe076b950",
   "metadata": {},
   "outputs": [],
   "source": [
    "%%capture\n",
    "from matplotlib.lines import Line2D\n",
    "\n",
    "# Legend\n",
    "legend = [\n",
    "    Line2D([], [], color=(1, 1, 1, 0), markerfacecolor=color_map[l], marker='o', markersize=10)\n",
    "    for l in np.unique(labels[surviving_nodes])]\n",
    "legend_names = [name_map[l] for l in np.unique(labels[surviving_nodes])]\n",
    "\n",
    "# Plot legend\n",
    "fig, ax = plt.subplots()\n",
    "legend = ax.legend(legend, legend_names, loc='center', frameon=False, ncol=len(legend)//1)\n",
    "legend.figure.canvas.draw()\n",
    "bbox = legend.get_window_extent().transformed(fig.dpi_scale_trans.inverted())\n",
    "plt.axis('off')\n",
    "plt.tight_layout()\n",
    "plt.savefig('results/fig_legend.png', bbox_inches=bbox, dpi=300)"
   ]
  },
  {
   "cell_type": "code",
   "execution_count": null,
   "id": "c63a5f4c-c57e-4749-b6a6-f78a46db6fce",
   "metadata": {},
   "outputs": [],
   "source": [
    "from IPython.display import display, Image\n",
    "display( Image(filename='results/fig_legend.png', width=800) )"
   ]
  },
  {
   "cell_type": "code",
   "execution_count": null,
   "id": "a58c5900-1680-402f-84b0-666bd9b77a3d",
   "metadata": {},
   "outputs": [],
   "source": [
    "np.random.seed(42)\n",
    "submask = torch.tensor((np.random.rand(dataset.x.shape[0]) > .97), dtype=bool)\n",
    "G = tg.utils.to_networkx(dataset.subgraph(np.argwhere(submask).flatten()), node_attrs=['x'], edge_attrs=['edge_weight'], to_undirected=True)\n",
    "edge_color = [(0, 0, 0, .1*G[u][v]['edge_weight']) for u, v in G.edges]\n",
    "pos = nx.spring_layout(G, weight='edge_weight', k=.5)\n",
    "\n",
    "# Original Data\n",
    "fig, ax = plt.subplots(1, 1, figsize=(6, 6))\n",
    "node_color = [color_map[trans_inv[int(v)]] for v in dataset.y[submask]]\n",
    "nx.draw(\n",
    "    G,\n",
    "    node_color=node_color,\n",
    "    edge_color=edge_color,\n",
    "    node_size=10,\n",
    "    pos=pos,\n",
    ")\n",
    "plt.title('Gene Coregulation')\n",
    "plt.savefig('results/fig_data.png', dpi=300)\n",
    "\n",
    "# Computed Data\n",
    "fig, ax = plt.subplots(1, 1, figsize=(6, 6))\n",
    "# pred = model(dataset).detach().argmax(dim=1)\n",
    "threshold = pred_raw[train_idx, 1].flatten().quantile(1 - (sum(labels=='AD') / (sum(labels=='AD') + sum(labels=='notAD'))))\n",
    "pred = 1*(model(dataset).detach()[:, 1] > threshold)\n",
    "# Show known\n",
    "node_color = [color_map[trans_inv[int(v)]] if v != 2 else color_map[trans_inv[int(w)]] for v, w in zip(dataset.y[submask], pred[submask])]\n",
    "# Do not show known\n",
    "# node_color = [color_map[trans_inv[int(v)]] for v in pred[submask]]\n",
    "nx.draw(\n",
    "    G,\n",
    "    node_color=node_color,\n",
    "    edge_color=edge_color,\n",
    "    node_size=10,\n",
    "    pos=pos,\n",
    ")\n",
    "plt.title('Predicted AD')\n",
    "plt.savefig('results/fig_prediction.png', dpi=300)"
   ]
  },
  {
   "cell_type": "code",
   "execution_count": null,
   "id": "e245b88b-ada8-4417-9beb-ac3194eeaed2",
   "metadata": {},
   "outputs": [],
   "source": [
    "def display_umap(transformed_data, labels):\n",
    "    for l in np.unique(labels):\n",
    "        plt.scatter(\n",
    "            *transformed_data[labels==l, :].T,\n",
    "            c=color_map[l],\n",
    "            zorder=z_map[l],\n",
    "            s=s_map[l],\n",
    "            label=l)\n",
    "    sns.despine(left=True, bottom=True)\n",
    "    plt.xticks([])\n",
    "    plt.yticks([])\n",
    "    plt.tight_layout()"
   ]
  },
  {
   "cell_type": "code",
   "execution_count": null,
   "id": "7c9179d8-52b9-4f72-8290-91ed42974f83",
   "metadata": {},
   "outputs": [],
   "source": [
    "# Embeddings\n",
    "fig, ax = plt.subplots(1, 1, figsize=(6, 6))\n",
    "transformed_data = UMAP(n_components=2, random_state=42).fit_transform(emb_pp)\n",
    "display_umap(transformed_data, labels[surviving_nodes])\n",
    "plt.title('Latent Space')\n",
    "plt.tight_layout()\n",
    "plt.savefig('results/fig_latent.png', dpi=300)\n",
    "\n",
    "# Umap for training-eval transform\n",
    "umap = UMAP(n_components=2, random_state=42)\n",
    "data = dataset.subgraph(np.argwhere(dataset.train_mask).flatten())\n",
    "umap.fit(model.encode(data.x, data.edge_index, data.edge_weight).detach().numpy())\n",
    "\n",
    "# Training plot\n",
    "fig, axs = plt.subplots(1, 1, figsize=(6, 6))\n",
    "data = dataset.subgraph(np.argwhere(dataset.train_mask).flatten())\n",
    "transformed_data = umap.transform(model.encode(data.x, data.edge_index, data.edge_weight).detach().numpy())\n",
    "display_umap(transformed_data, labels[surviving_nodes][train_idx])\n",
    "plt.title('Classification Space')\n",
    "plt.tight_layout()\n",
    "plt.savefig('results/fig_classification.png', dpi=300)\n",
    "xlim, ylim = plt.xlim(), plt.ylim()\n",
    "\n",
    "# Evaluation plot\n",
    "fig, axs = plt.subplots(1, 1, figsize=(6, 6))\n",
    "data = dataset.subgraph(np.argwhere(dataset.val_mask).flatten())\n",
    "transformed_data = umap.transform(model.encode(data.x, data.edge_index, data.edge_weight).detach().numpy())\n",
    "display_umap(transformed_data, labels[surviving_nodes][val_idx])\n",
    "# plt.plot(np.array(xlim), .4*np.array(xlim)+0, '-', color='red', linewidth=2)\n",
    "plt.xlim(xlim)\n",
    "plt.ylim(ylim)\n",
    "plt.title('Evaluation Set')\n",
    "plt.tight_layout()\n",
    "plt.savefig('results/fig_classification_eval.png', dpi=300)"
   ]
  }
 ],
 "metadata": {
  "kernelspec": {
   "display_name": "gnn_plus",
   "language": "python",
   "name": "gnn_plus"
  },
  "language_info": {
   "codemirror_mode": {
    "name": "ipython",
    "version": 3
   },
   "file_extension": ".py",
   "mimetype": "text/x-python",
   "name": "python",
   "nbconvert_exporter": "python",
   "pygments_lexer": "ipython3",
   "version": "3.9.5"
  }
 },
 "nbformat": 4,
 "nbformat_minor": 5
}
