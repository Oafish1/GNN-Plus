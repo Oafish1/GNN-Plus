{
 "cells": [
  {
   "cell_type": "code",
   "execution_count": 1,
   "metadata": {},
   "outputs": [],
   "source": [
    "%load_ext autoreload\n",
    "%autoreload 2"
   ]
  },
  {
   "cell_type": "code",
   "execution_count": 2,
   "metadata": {},
   "outputs": [],
   "source": [
    "import graph_tool.all as gt\n",
    "import matplotlib.pyplot as plt\n",
    "import numpy as np\n",
    "import pandas as pd\n",
    "import seaborn as sns\n",
    "\n",
    "from functions import (\n",
    "    combine_graphs,\n",
    "    compute_graph,\n",
    "    compute_statistics,\n",
    "    figure_data_driven,\n",
    "    figure_diffusion,\n",
    "    load_graph_by_id,\n",
    "    plot_sankey,\n",
    "    simulate_diffusion,\n",
    "    subset_graph,\n",
    ")\n",
    "\n",
    "\n",
    "# Graph-Tool compatibility\n",
    "plt.switch_backend('cairo')\n",
    "# Style\n",
    "sns.set(style='white', palette='Accent')\n",
    "plt.rcParams.update({'font.weight': 'normal',\n",
    "                     'font.size': 18,\n",
    "                     'axes.titlesize': 'large',\n",
    "                     'axes.labelsize': 'large',\n",
    "                     'xtick.labelsize': 'small',\n",
    "                     'ytick.labelsize': 'small'})"
   ]
  },
  {
   "attachments": {},
   "cell_type": "markdown",
   "metadata": {},
   "source": [
    "### Computation"
   ]
  },
  {
   "cell_type": "code",
   "execution_count": 3,
   "metadata": {},
   "outputs": [
    {
     "name": "stderr",
     "output_type": "stream",
     "text": [
      "100%|███████████████████████████████████████████████████████████████████████████████████| 24/24 [01:45<00:00,  4.40s/it]\n",
      "  0%|                                                                                            | 0/24 [00:00<?, ?it/s]/home/thema/miniconda3/envs/GNN/lib/python3.11/site-packages/numpy/core/fromnumeric.py:3464: RuntimeWarning: Mean of empty slice.\n",
      "  return _methods._mean(a, axis=axis, dtype=dtype,\n",
      "/home/thema/miniconda3/envs/GNN/lib/python3.11/site-packages/numpy/core/_methods.py:192: RuntimeWarning: invalid value encountered in scalar divide\n",
      "  ret = ret.dtype.type(ret / rcount)\n",
      " 46%|██████████████████████████████████████                                             | 11/24 [00:00<00:00, 22.62it/s]/home/thema/miniconda3/envs/GNN/lib/python3.11/site-packages/numpy/core/fromnumeric.py:3464: RuntimeWarning: Mean of empty slice.\n",
      "  return _methods._mean(a, axis=axis, dtype=dtype,\n",
      "/home/thema/miniconda3/envs/GNN/lib/python3.11/site-packages/numpy/core/_methods.py:192: RuntimeWarning: invalid value encountered in scalar divide\n",
      "  ret = ret.dtype.type(ret / rcount)\n",
      "100%|███████████████████████████████████████████████████████████████████████████████████| 24/24 [00:00<00:00, 29.34it/s]\n",
      "  0%|                                                                                            | 0/24 [00:00<?, ?it/s]/home/thema/miniconda3/envs/GNN/lib/python3.11/site-packages/numpy/core/fromnumeric.py:3464: RuntimeWarning: Mean of empty slice.\n",
      "  return _methods._mean(a, axis=axis, dtype=dtype,\n",
      "/home/thema/miniconda3/envs/GNN/lib/python3.11/site-packages/numpy/core/_methods.py:192: RuntimeWarning: invalid value encountered in scalar divide\n",
      "  ret = ret.dtype.type(ret / rcount)\n",
      " 46%|██████████████████████████████████████                                             | 11/24 [00:00<00:00, 28.01it/s]/home/thema/miniconda3/envs/GNN/lib/python3.11/site-packages/numpy/core/fromnumeric.py:3464: RuntimeWarning: Mean of empty slice.\n",
      "  return _methods._mean(a, axis=axis, dtype=dtype,\n",
      "/home/thema/miniconda3/envs/GNN/lib/python3.11/site-packages/numpy/core/_methods.py:192: RuntimeWarning: invalid value encountered in scalar divide\n",
      "  ret = ret.dtype.type(ret / rcount)\n",
      "100%|███████████████████████████████████████████████████████████████████████████████████| 24/24 [00:00<00:00, 36.42it/s]\n",
      "100%|███████████████████████████████████████████████████████████████████████████████████| 24/24 [00:00<00:00, 40.61it/s]\n",
      "/mnt/c/Users/nck/repos/GNN-Plus/General Analysis/scripts/functions/utility.py:42: PerformanceWarning: DataFrame is highly fragmented.  This is usually the result of calling `frame.insert` many times, which has poor performance.  Consider joining all columns at once using pd.concat(axis=1) instead. To get a de-fragmented frame, use `newframe = frame.copy()`\n",
      "  graph['coef'] = graph.iloc[:, 2:].mean(axis=1)\n"
     ]
    }
   ],
   "source": [
    "# Load metadata\n",
    "meta = pd.read_csv('../../data/PsychAD_freeze2_personalized_grpahs/syn26527784_latest.csv')\n",
    "with open('../../data/ting/2023-06-26/AD_genes.txt') as f:\n",
    "    ad_genes = f.readlines()\n",
    "ad_genes = [s.replace('\\n', '') for s in ad_genes if len(s.replace('\\n', '')) > 0]\n",
    "\n",
    "# Graph summaries\n",
    "# nps_WtLossCurValue, nps_MoodDysCurValue, Sex, nps_PsychoAgiCurValue\n",
    "# TODO: Change `column` to respective heads\n",
    "column_diff = 'att_D_AD_0_1'\n",
    "column_data = 'att_D_no_prior_0'\n",
    "coex_diff_compare_phenotype = 'nps_PsychoAgiCurValue'\n",
    "diff_data_compare_phenotype = 'nps_WtLossCurValue'\n",
    "individual_sample_id = 'M48247'\n",
    "other_sample_id = 'M41496'\n",
    "diff_graph_summary_coex = compute_statistics(meta, 'BRAAK_AD', coex_diff_compare_phenotype, source='coexpression')\n",
    "diff_graph_summary_att = compute_statistics(meta, 'BRAAK_AD', coex_diff_compare_phenotype, column=column_diff)\n",
    "diff_graph_summary = compute_statistics(meta, 'BRAAK_AD', diff_data_compare_phenotype, column=column_diff)\n",
    "data_graph_summary = compute_statistics(meta, 'BRAAK_AD', diff_data_compare_phenotype, column=column_data)\n",
    "\n",
    "# Graphs\n",
    "diff_g_individual = compute_graph(load_graph_by_id(individual_sample_id, column=column_diff))\n",
    "diff_g_individual_coex = compute_graph(load_graph_by_id(individual_sample_id, source='coexpression'))\n",
    "diff_g_individual_diffusion = subset_graph(simulate_diffusion(diff_g_individual_coex, ad_genes), diff_g_individual)\n",
    "diff_g_other = compute_graph(load_graph_by_id(other_sample_id, column=column_diff))\n",
    "data_g_individual = compute_graph(load_graph_by_id(individual_sample_id, column=column_data))\n",
    "data_g_other = compute_graph(load_graph_by_id(other_sample_id, column=column_data))\n",
    "data_g_group = compute_graph(combine_graphs(list(meta['SubID']), source='attention', column=column_data))"
   ]
  },
  {
   "cell_type": "code",
   "execution_count": 6,
   "metadata": {},
   "outputs": [],
   "source": [
    "# Plotting\n",
    "fig = figure_diffusion(\n",
    "        diff_g_individual_diffusion, \n",
    "        diff_g_individual, \n",
    "        diff_g_other, \n",
    "        diff_graph_summary_coex, \n",
    "        diff_graph_summary_att,\n",
    "        meta=meta,\n",
    "        individual_sample_id=individual_sample_id,\n",
    "        other_sample_id=other_sample_id,\n",
    ")\n",
    "fig.savefig('../plots/diffusion.svg', format='svg', backend='cairo')\n",
    "fig = figure_data_driven(\n",
    "    data_g_individual, \n",
    "    diff_graph_summary, \n",
    "    data_graph_summary, \n",
    "    data_g_other,\n",
    "    subset_graph(data_g_group, data_g_individual),\n",
    ")\n",
    "fig.savefig('../plots/data_driven.svg', format='svg', backend='cairo')"
   ]
  },
  {
   "attachments": {},
   "cell_type": "markdown",
   "metadata": {},
   "source": [
    "### Perform Analysis"
   ]
  },
  {
   "cell_type": "code",
   "execution_count": 6,
   "metadata": {},
   "outputs": [
    {
     "name": "stdout",
     "output_type": "stream",
     "text": [
      "M48247 Black Female,  95.0\n",
      "M19050 Hispanic Female,  74.0\n"
     ]
    }
   ],
   "source": [
    "filtered = []\n",
    "for i, row in meta.iterrows():\n",
    "    try:\n",
    "        load_graph_by_id(row['SubID'])\n",
    "        assert not np.isnan(row['nps_MoodDysCurValue'])\n",
    "        assert row['Sex'] == 'Female'\n",
    "        assert row['Ethnicity'] != 'White'\n",
    "    except:\n",
    "        continue\n",
    "    filtered.append(f'{row[\"SubID\"]} {row[\"Ethnicity\"]} {row[\"Sex\"]},  {row[\"Age\"]}')\n",
    "print(filtered[0])\n",
    "print(filtered[2])"
   ]
  },
  {
   "cell_type": "code",
   "execution_count": 9,
   "metadata": {},
   "outputs": [],
   "source": [
    "# meta = pd.read_csv('../../data/PsychAD_freeze2_personalized_grpahs/syn26527784_latest.csv')\n",
    "# plot_sankey(\n",
    "#     meta,\n",
    "#     (\n",
    "#         ('Brain_bank','BRAAK_AD'),\n",
    "#         ('BRAAK_AD','nps_WtLossCurValue'),\n",
    "#     ),\n",
    "#     {\n",
    "#         'Brain_bank': 0,\n",
    "#         'BRAAK_AD': 1,\n",
    "#         'nps_WtLossCurValue': 2,\n",
    "#     })"
   ]
  },
  {
   "cell_type": "code",
   "execution_count": 7,
   "metadata": {},
   "outputs": [],
   "source": [
    "# # Novel Cluster Analysis\n",
    "# diff_g_novel = compute_graph(combine_graphs(list(meta['SubID']), source='attention', column=column_diff))\n",
    "# diff_state_novel = gt.minimize_nested_blockmodel_dl(diff_g_novel)\n",
    "# vp_clusters = diff_state_novel.get_clabel(0)\n",
    "# v_ids = [diff_g_novel.vp.ids[v] for v in diff_g_novel.vertices()]\n",
    "# v_clusters = [vp_clusters[v] for v in diff_g_novel.vertices()]\n",
    "# clusters = [[v_id for v_id, v_c in zip(v_ids, v_clusters) if v_c == c] for c in np.unique(v_clusters)]\n",
    "\n",
    "# # Print specific clusters\n",
    "# diff_state_novel.print_summary()\n",
    "# for gene in clusters[17]:\n",
    "#     print(gene)"
   ]
  }
 ],
 "metadata": {
  "kernelspec": {
   "display_name": "GNN",
   "language": "python",
   "name": "gnn"
  },
  "language_info": {
   "codemirror_mode": {
    "name": "ipython",
    "version": 3
   },
   "file_extension": ".py",
   "mimetype": "text/x-python",
   "name": "python",
   "nbconvert_exporter": "python",
   "pygments_lexer": "ipython3",
   "version": "3.11.4"
  },
  "orig_nbformat": 4
 },
 "nbformat": 4,
 "nbformat_minor": 2
}
