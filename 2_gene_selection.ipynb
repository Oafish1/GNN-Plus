{
 "cells": [
  {
   "cell_type": "code",
   "execution_count": 5,
   "id": "26612aca-7605-4b00-9e70-b67b03a6d20f",
   "metadata": {},
   "outputs": [],
   "source": [
    "import pandas as pd"
   ]
  },
  {
   "cell_type": "code",
   "execution_count": 7,
   "id": "1276bad6-d5f0-46d4-b684-9176131a0a73",
   "metadata": {
    "scrolled": true,
    "tags": []
   },
   "outputs": [
    {
     "name": "stdout",
     "output_type": "stream",
     "text": [
      "CSGALNACT1\n",
      "NAV3\n",
      "MAGI2\n",
      "ETV5\n",
      "CABLES1\n",
      "IRF3\n",
      "MX1\n",
      "PTPRE\n",
      "LRRK2\n",
      "IRF5\n",
      "ANK2\n",
      "TGIF1\n",
      "MAPT\n",
      "GCLC\n",
      "FHIT\n",
      "GRB10\n",
      "MZF1\n",
      "MTUS2\n",
      "FHOD3\n",
      "TAOK3\n",
      "HESX1\n",
      "TCERG1\n",
      "ATF7\n",
      "CASS4\n",
      "RAB7A\n",
      "MLX\n",
      "NFIC\n",
      "PRUNE2\n",
      "PPARG\n",
      "PTK2B\n",
      "EBF1\n",
      "ZBTB7B\n",
      "ESR2\n",
      "ARID1A\n",
      "FRS2\n",
      "PHC2\n",
      "MYBL2\n",
      "TLR3\n",
      "PPIL4\n",
      "ZNF384\n",
      "APBB1\n",
      "POU3F2\n"
     ]
    }
   ],
   "source": [
    "# Load data\n",
    "results_folder = './results/'\n",
    "genes_suffix = '/mlp-Microglia-20-5-Predictions.txt'\n",
    "ad_ad = pd.read_csv(results_folder + 'AD' + genes_suffix, delimiter=' ').to_numpy()\n",
    "ad_scz = pd.read_csv(results_folder + 'AD-SCZ' + genes_suffix, delimiter=' ').to_numpy()\n",
    "\n",
    "# Get significant genes\n",
    "ad_ad_significant = ad_ad[:100, 0]\n",
    "ad_scz_significant = ad_scz[:500, 0]\n",
    "ad_not_scz = list(set(ad_ad_significant) - set(ad_scz_significant))\n",
    "\n",
    "# Print significant genes\n",
    "for s in ad_not_scz:\n",
    "    print(s)"
   ]
  },
  {
   "cell_type": "code",
   "execution_count": 8,
   "id": "7bd8ca31-3a52-4be7-96aa-f010189ee5ad",
   "metadata": {
    "scrolled": true,
    "tags": []
   },
   "outputs": [],
   "source": [
    "# # Load data\n",
    "# results_folder = './results/'\n",
    "# genes_suffix = '/mlp-Glutamatergic neuron-20-5-Predictions.txt'\n",
    "# scz_scz = pd.read_csv(results_folder + 'SCZ' + genes_suffix, delimiter=' ').to_numpy()\n",
    "# scz_ad = pd.read_csv(results_folder + 'SCZ-AD' + genes_suffix, delimiter=' ').to_numpy()\n",
    "\n",
    "# # Get significant genes\n",
    "# scz_scz_significant = scz_scz[:100, 0]\n",
    "# scz_ad_significant = scz_ad[:500, 0]\n",
    "# scz_not_ad = list(set(scz_scz_significant) - set(scz_ad_significant))\n",
    "\n",
    "# # Print significant genes\n",
    "# for s in scz_not_ad:\n",
    "#     print(s)"
   ]
  },
  {
   "cell_type": "code",
   "execution_count": null,
   "id": "bdf882a3-8522-4e73-871f-2715afa9a626",
   "metadata": {},
   "outputs": [],
   "source": []
  }
 ],
 "metadata": {
  "kernelspec": {
   "display_name": "Python 3 (ipykernel)",
   "language": "python",
   "name": "python3"
  },
  "language_info": {
   "codemirror_mode": {
    "name": "ipython",
    "version": 3
   },
   "file_extension": ".py",
   "mimetype": "text/x-python",
   "name": "python",
   "nbconvert_exporter": "python",
   "pygments_lexer": "ipython3",
   "version": "3.9.5"
  }
 },
 "nbformat": 4,
 "nbformat_minor": 5
}
