{
 "cells": [
  {
   "cell_type": "code",
   "execution_count": 1,
   "id": "de43a602-df9f-42a8-8899-a53b0bb48fad",
   "metadata": {},
   "outputs": [],
   "source": [
    "from collections import defaultdict\n",
    "from itertools import product\n",
    "import math\n",
    "\n",
    "import numpy as np\n",
    "import pandas as pd"
   ]
  },
  {
   "cell_type": "code",
   "execution_count": 2,
   "id": "b9773b39-5f52-43f5-8b45-c144232875f1",
   "metadata": {},
   "outputs": [
    {
     "name": "stdout",
     "output_type": "stream",
     "text": [
      "Loading Metadata...\n"
     ]
    }
   ],
   "source": [
    "# Load data\n",
    "print('Loading Metadata...')\n",
    "data_folder = 'data/PsychAD_freeze2_personalized_grpahs/'\n",
    "meta = pd.read_csv(data_folder + 'syn26527784_latest.csv')"
   ]
  },
  {
   "cell_type": "code",
   "execution_count": 3,
   "id": "79154959-5b27-40db-a6ac-a4849a6380c6",
   "metadata": {},
   "outputs": [],
   "source": [
    "# Utility functions\n",
    "# Defaultdict with depth\n",
    "def deepdefaultdict(depth, default=None):\n",
    "    if depth == 0:\n",
    "        return None\n",
    "    return defaultdict(lambda: deepdefaultdict(depth-1, default=default))\n",
    "\n",
    "# Prune zero-length array entries from d=1 dict\n",
    "def prunedict(dic):\n",
    "    newdic = {}\n",
    "    for k in dic:\n",
    "        if len(dic[k]) > 0:\n",
    "            newdic[k] = dic[k]\n",
    "    return newdic\n",
    "\n",
    "# Convert to dict\n",
    "def dd2d(dd):\n",
    "    if type(dd) == type(defaultdict()):\n",
    "        for k in dd:\n",
    "            dd[k] = dd2d(dd[k])\n",
    "        return(dict(dd))\n",
    "    return dd"
   ]
  },
  {
   "cell_type": "code",
   "execution_count": 4,
   "id": "b8c86b90-96ff-4788-8d16-747c4e19827c",
   "metadata": {},
   "outputs": [],
   "source": [
    "# Hyperparameters\n",
    "stratify_cols = ['BRAAK_AD', 'Sex']  # BRAAK_AD, Sex\n",
    "stratify_cols.sort()\n",
    "cell_type = 'Mural'  # EN Endo Glial Immune IN Mural None\n",
    "cell_type_top_regulons = 20\n",
    "edge_percentile = 0\n",
    "edge_present_pct = 99"
   ]
  },
  {
   "cell_type": "code",
   "execution_count": 5,
   "id": "7e8dd1b3-5952-430d-b372-3d23ef391a7f",
   "metadata": {},
   "outputs": [
    {
     "name": "stdout",
     "output_type": "stream",
     "text": [
      "Gathering...\n",
      "BRAAK_AD: 0.0\tSex: Female\t(58 IDs)\n",
      "BRAAK_AD: 0.0\tSex: Male\t(128 IDs)\n",
      "BRAAK_AD: 1.0\tSex: Female\t(64 IDs)\n",
      "BRAAK_AD: 1.0\tSex: Male\t(65 IDs)\n",
      "BRAAK_AD: 2.0\tSex: Female\t(105 IDs)\n",
      "BRAAK_AD: 2.0\tSex: Male\t(82 IDs)\n",
      "BRAAK_AD: 3.0\tSex: Female\t(104 IDs)\n",
      "BRAAK_AD: 3.0\tSex: Male\t(80 IDs)\n",
      "BRAAK_AD: 4.0\tSex: Female\t(86 IDs)\n",
      "BRAAK_AD: 4.0\tSex: Male\t(52 IDs)\n",
      "BRAAK_AD: 5.0\tSex: Female\t(108 IDs)\n",
      "BRAAK_AD: 5.0\tSex: Male\t(44 IDs)\n",
      "BRAAK_AD: 6.0\tSex: Female\t(253 IDs)\n",
      "BRAAK_AD: 6.0\tSex: Male\t(153 IDs)\n",
      "BRAAK_AD: nan\tSex: Female\t(0 IDs)\n",
      "BRAAK_AD: nan\tSex: Male\t(0 IDs)\n"
     ]
    }
   ],
   "source": [
    "# Stratify by column\n",
    "print('Gathering...')\n",
    "graph_ids = {}\n",
    "unique_vals = [np.unique(meta[col]) for col in stratify_cols]\n",
    "for vals in product(*unique_vals):\n",
    "    print('\\t'.join([f'{col}: {val}' for col, val in zip(stratify_cols, vals)]), end='')\n",
    "    current_filter = np.array([True for _ in range(meta.shape[0])])\n",
    "    for col, val in zip(stratify_cols, vals):\n",
    "        current_filter *= (meta[col] == val)\n",
    "    graph_ids[vals] = list(meta.loc[current_filter]['SubID'])\n",
    "    print(f'\\t({len(graph_ids[vals])} IDs)')\n",
    "graph_ids = prunedict(graph_ids)"
   ]
  },
  {
   "cell_type": "code",
   "execution_count": 6,
   "id": "50bd5755-a024-4f1f-ad3f-0076cc5e8ddd",
   "metadata": {},
   "outputs": [
    {
     "name": "stdout",
     "output_type": "stream",
     "text": [
      "Processing...\n",
      "BRAAK_AD: 0.0\tSex: Female\t(9 Graphs)\n",
      "BRAAK_AD: 0.0\tSex: Male\t(42 Graphs)\n",
      "BRAAK_AD: 1.0\tSex: Female\t(10 Graphs)\n",
      "BRAAK_AD: 1.0\tSex: Male\t(14 Graphs)\n",
      "BRAAK_AD: 2.0\tSex: Female\t(9 Graphs)\n",
      "BRAAK_AD: 2.0\tSex: Male\t(8 Graphs)\n",
      "BRAAK_AD: 3.0\tSex: Female\t(1 Graphs)\n",
      "BRAAK_AD: 3.0\tSex: Male\t(7 Graphs)\n",
      "BRAAK_AD: 4.0\tSex: Female\t(6 Graphs)\n",
      "BRAAK_AD: 4.0\tSex: Male\t(3 Graphs)\n",
      "BRAAK_AD: 5.0\tSex: Female\t(19 Graphs)\n",
      "BRAAK_AD: 5.0\tSex: Male\t(6 Graphs)\n",
      "BRAAK_AD: 6.0\tSex: Female\t(91 Graphs)\n",
      "BRAAK_AD: 6.0\tSex: Male\t(57 Graphs)\n"
     ]
    }
   ],
   "source": [
    "# Aggregate graphs\n",
    "print('Processing...')\n",
    "processed_graphs = {}\n",
    "num_graphs = defaultdict(lambda: 0)\n",
    "for k, v in graph_ids.items():\n",
    "    print('\\t'.join([f'{col}: {val}' for col, val in zip(stratify_cols, k)]), end='')\n",
    "    running_graph = defaultdict(lambda: defaultdict(list))\n",
    "    for graph_id in v:\n",
    "        # Load individual graph\n",
    "        try:\n",
    "            graph = pd.read_csv(data_folder + f'regulon_grn/{graph_id}_regulon_list.csv')[['TF', 'gene', 'CoexWeight', 'regulon']]\n",
    "            graph = graph.rename(columns={'gene': 'TG', 'CoexWeight': 'coef'})  # TF, TG, coef, regulon\n",
    "        except:\n",
    "            continue\n",
    "        # Filter to regulons based on cell-type\n",
    "        if cell_type is not None:\n",
    "            try:\n",
    "                rss = pd.read_csv(data_folder + f'rss/{graph_id}_6_celltype_rss.csv', index_col=0)\n",
    "                assert cell_type in rss.index\n",
    "                # Top x regulons\n",
    "                regulons = rss.loc[cell_type].nlargest(cell_type_top_regulons).index\n",
    "                graph = graph.loc[np.isin(np.array(graph['regulon']), regulons)]\n",
    "            except:\n",
    "                continue\n",
    "            # Top x percent of coefs\n",
    "            graph = graph.loc[np.array(graph['coef']) > np.percentile(graph['coef'], edge_percentile)]\n",
    "        graph = graph[['TF', 'TG', 'coef']]\n",
    "        num_graphs[k] += 1\n",
    "        for _, row in graph.iterrows():\n",
    "            tf, tg, coef = row\n",
    "            running_graph[tf][tg].append(coef)\n",
    "    print(f'\\t({num_graphs[k]} Graphs)')\n",
    "    processed_graphs[k] = dd2d(running_graph)\n",
    "num_graphs = dict(num_graphs)"
   ]
  },
  {
   "cell_type": "code",
   "execution_count": 7,
   "id": "138f9211-6f6a-48b0-a438-566bad641a86",
   "metadata": {},
   "outputs": [
    {
     "name": "stdout",
     "output_type": "stream",
     "text": [
      "Filtering...\n",
      "BRAAK_AD: 0.0\tSex: Female\t(210 Edges)\n",
      "BRAAK_AD: 0.0\tSex: Male\t(724 Edges)\n",
      "BRAAK_AD: 1.0\tSex: Female\t(191 Edges)\n",
      "BRAAK_AD: 1.0\tSex: Male\t(373 Edges)\n",
      "BRAAK_AD: 2.0\tSex: Female\t(412 Edges)\n",
      "BRAAK_AD: 2.0\tSex: Male\t(814 Edges)\n",
      "BRAAK_AD: 3.0\tSex: Female\t(1359 Edges)\n",
      "BRAAK_AD: 3.0\tSex: Male\t(426 Edges)\n",
      "BRAAK_AD: 4.0\tSex: Female\t(564 Edges)\n",
      "BRAAK_AD: 4.0\tSex: Male\t(482 Edges)\n",
      "BRAAK_AD: 5.0\tSex: Female\t(538 Edges)\n",
      "BRAAK_AD: 5.0\tSex: Male\t(178 Edges)\n",
      "BRAAK_AD: 6.0\tSex: Female\t(1393 Edges)\n",
      "BRAAK_AD: 6.0\tSex: Male\t(841 Edges)\n"
     ]
    }
   ],
   "source": [
    "# Keep edges which have some references in common\n",
    "print('Filtering...')\n",
    "edgelists = {}\n",
    "for k0, v0 in processed_graphs.items():\n",
    "    print('\\t'.join([f'{col}: {val}' for col, val in zip(stratify_cols, k0)]), end='')\n",
    "    # Calculate min edges\n",
    "    edge_counts = []\n",
    "    for k1, v1 in v0.items():\n",
    "        for k2, v2 in v1.items():\n",
    "            edge_counts.append(len(v2))\n",
    "    min_edges = np.percentile(edge_counts, edge_present_pct)\n",
    "    edges = []\n",
    "    num_edges = 0\n",
    "    for k1, v1 in v0.items():\n",
    "        for k2, v2 in v1.items():\n",
    "            if len(v2) >= min_edges:\n",
    "                edges.append([k1, k2, np.mean(v2)])\n",
    "                num_edges += 1\n",
    "    print(f'\\t({num_edges} Edges)')\n",
    "    edgelists[k0] = edges\n",
    "edgelists = prunedict(edgelists)"
   ]
  },
  {
   "cell_type": "code",
   "execution_count": 8,
   "id": "4356301d-eb35-4e4e-8125-447046df6c78",
   "metadata": {},
   "outputs": [
    {
     "name": "stdout",
     "output_type": "stream",
     "text": [
      "Saving...\n",
      "BRAAK_AD: 0.0\tSex: Female\n",
      "BRAAK_AD: 0.0\tSex: Male\n",
      "BRAAK_AD: 1.0\tSex: Female\n",
      "BRAAK_AD: 1.0\tSex: Male\n",
      "BRAAK_AD: 2.0\tSex: Female\n",
      "BRAAK_AD: 2.0\tSex: Male\n",
      "BRAAK_AD: 3.0\tSex: Female\n",
      "BRAAK_AD: 3.0\tSex: Male\n",
      "BRAAK_AD: 4.0\tSex: Female\n",
      "BRAAK_AD: 4.0\tSex: Male\n",
      "BRAAK_AD: 5.0\tSex: Female\n",
      "BRAAK_AD: 5.0\tSex: Male\n",
      "BRAAK_AD: 6.0\tSex: Female\n",
      "BRAAK_AD: 6.0\tSex: Male\n"
     ]
    }
   ],
   "source": [
    "print('Saving...')\n",
    "for k in edgelists:\n",
    "    print('\\t'.join([f'{col}: {val}' for col, val in zip(stratify_cols, k)]))\n",
    "    pd.DataFrame(edgelists[k], columns=['TF', 'TG', 'coef']).to_csv(\n",
    "        data_folder\n",
    "        + f'processed/grn_{f\"{cell_type}_\" if cell_type is not None else \"\"}'\n",
    "        f'{\"_\".join([f\"{col}_{val}\" for col, val in zip(stratify_cols, k)])}.csv')"
   ]
  },
  {
   "cell_type": "code",
   "execution_count": null,
   "id": "9f3e72bb-5e70-402d-950a-837cad1cd148",
   "metadata": {},
   "outputs": [],
   "source": []
  }
 ],
 "metadata": {
  "kernelspec": {
   "display_name": "gnn_plus",
   "language": "python",
   "name": "gnn_plus"
  },
  "language_info": {
   "codemirror_mode": {
    "name": "ipython",
    "version": 3
   },
   "file_extension": ".py",
   "mimetype": "text/x-python",
   "name": "python",
   "nbconvert_exporter": "python",
   "pygments_lexer": "ipython3",
   "version": "3.9.5"
  }
 },
 "nbformat": 4,
 "nbformat_minor": 5
}
