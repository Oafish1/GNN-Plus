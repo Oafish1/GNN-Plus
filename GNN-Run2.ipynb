{
 "cells": [
  {
   "cell_type": "code",
   "execution_count": 1,
   "id": "9b0ac0f1-9a18-4e03-954a-4d272c3b5d8d",
   "metadata": {},
   "outputs": [
    {
     "name": "stderr",
     "output_type": "stream",
     "text": [
      "/mnt/c/Users/nck/repos/GNN-Plus/env/lib/python3.9/site-packages/tqdm/auto.py:22: TqdmWarning: IProgress not found. Please update jupyter and ipywidgets. See https://ipywidgets.readthedocs.io/en/stable/user_install.html\n",
      "  from .autonotebook import tqdm as notebook_tqdm\n"
     ]
    }
   ],
   "source": [
    "import matplotlib.pyplot as plt\n",
    "import numpy as np\n",
    "import pandas as pd\n",
    "import scipy\n",
    "import seaborn as sns\n",
    "from sklearn.metrics import roc_curve, auc\n",
    "import torch\n",
    "import torch.nn as nn\n",
    "import torch_geometric as pyg\n",
    "import torch_geometric.nn as gnn"
   ]
  },
  {
   "cell_type": "code",
   "execution_count": 2,
   "id": "4fca094d-6ce4-4a96-8fdd-e2bf01c5c8c6",
   "metadata": {},
   "outputs": [],
   "source": [
    "sns.set_style('darkgrid')\n",
    "np.random.seed(42)"
   ]
  },
  {
   "cell_type": "markdown",
   "id": "95b54ae5-80c2-4d38-b24f-8cafd5886cc4",
   "metadata": {},
   "source": [
    "# Dataset"
   ]
  },
  {
   "cell_type": "code",
   "execution_count": 3,
   "id": "46e4613c-a6f0-4596-bd91-04a635309a21",
   "metadata": {},
   "outputs": [
    {
     "data": {
      "text/plain": [
       "Data(edge_index=[2, 477034], y=[1100], edge_attributes=[477034], train_mask=[1100], val_mask=[1100])"
      ]
     },
     "execution_count": 3,
     "metadata": {},
     "output_type": "execute_result"
    }
   ],
   "source": [
    "# Get graph\n",
    "data_folder = './data/training_matrices_DGL/'\n",
    "mat = pd.read_csv(data_folder + 'Astrocyte.feat.mat', index_col=0, sep='\\t')\n",
    "genes = np.array(mat.columns)\n",
    "assert (genes == np.array(mat.index)).all()\n",
    "\n",
    "# Get labels\n",
    "meta = pd.read_csv(data_folder + 'training_labels.txt', index_col=0, sep='\\t')\n",
    "labels = meta.values[:, 0]\n",
    "labels = np.array([str(meta.loc[g]['label']) if g in meta.index else 'unknown' for g in genes])\n",
    "\n",
    "### SUBSET\n",
    "# subset_idx = np.random.choice(len(labels), 1000, replace=False)\n",
    "ad_labels = np.argwhere(labels == 'AD').flatten()\n",
    "notad_labels = np.argwhere(labels == 'notAD').flatten()\n",
    "unknown_labels = np.argwhere(labels == 'unknown').flatten()\n",
    "subset_idx = np.concatenate([\n",
    "    np.random.choice(ad_labels, 100, replace=False),\n",
    "    np.random.choice(notad_labels, 500, replace=False),\n",
    "    np.random.choice(unknown_labels, 500, replace=False)])\n",
    "mat = mat.iloc[subset_idx, subset_idx]\n",
    "genes = genes[subset_idx]\n",
    "labels = labels[subset_idx]\n",
    "###\n",
    "\n",
    "# Sort labels\n",
    "ad_labels = np.argwhere(labels == 'AD').flatten()\n",
    "notad_labels = np.argwhere(labels == 'notAD').flatten()\n",
    "unknown_labels = np.argwhere(labels == 'unknown').flatten()\n",
    "known_labels = np.array(list(set(range(len(genes))) - set(unknown_labels)))\n",
    "\n",
    "# Split into training and testing\n",
    "train_num = int(len(genes) * .8)\n",
    "val_num = len(genes) - train_num\n",
    "train_idx = np.random.choice(len(genes), train_num, replace=False)\n",
    "val_idx = np.array(list(set(range(len(genes))) - set(train_idx)))\n",
    "\n",
    "# Masks\n",
    "train_mask = [i in train_idx for i in range(len(genes))]\n",
    "val_mask = [i in val_idx for i in range(len(genes))]\n",
    "\n",
    "# Format sparse\n",
    "mat = scipy.sparse.coo_matrix(mat.values)\n",
    "edge_indices = np.stack([mat.row, mat.col])\n",
    "edge_weights = mat.data\n",
    "\n",
    "# Construct dataset\n",
    "data = pyg.data.Data(\n",
    "    y=labels,\n",
    "    edge_index=torch.tensor(edge_indices).to(torch.int64),\n",
    "    edge_attributes=torch.tensor(edge_weights).to(torch.float64),\n",
    "    train_mask=train_mask,\n",
    "    val_mask=val_mask)\n",
    "data\n",
    "\n",
    "# Example dataset\n",
    "# from torch_geometric.datasets import Planetoid\n",
    "# dataset = Planetoid('./data', 'Cora')[0]\n",
    "# dataset\n",
    "# row, col = data.edge_index\n",
    "# print(col.dtype)\n",
    "# row, col = dataset.edge_index\n",
    "# print(col.dtype)"
   ]
  },
  {
   "cell_type": "markdown",
   "id": "c607ce68-74c7-4866-afde-00e88c5d843f",
   "metadata": {
    "tags": []
   },
   "source": [
    "# Embedding Model"
   ]
  },
  {
   "cell_type": "code",
   "execution_count": 4,
   "id": "be382f1b-b91c-4e52-b55f-71ef3a215737",
   "metadata": {},
   "outputs": [],
   "source": [
    "embedding_dim = 32"
   ]
  },
  {
   "cell_type": "code",
   "execution_count": 5,
   "id": "2bf007ed-0bb8-4728-8d0d-0aa33219b640",
   "metadata": {},
   "outputs": [],
   "source": [
    "# Create model\n",
    "model = gnn.Node2Vec(\n",
    "    data.edge_index,\n",
    "    embedding_dim=embedding_dim,\n",
    "    walk_length=20,\n",
    "    context_size=10,\n",
    "    walks_per_node=10,\n",
    "    num_negative_samples=1,\n",
    "    p=1,\n",
    "    q=1,\n",
    "    sparse=True)\n",
    "\n",
    "loader = model.loader(batch_size=128, shuffle=True, num_workers=4)\n",
    "optimizer = torch.optim.SparseAdam(model.parameters(), lr=0.01)"
   ]
  },
  {
   "cell_type": "code",
   "execution_count": 6,
   "id": "200e6df6-f434-4826-9171-fdc72c44fe0a",
   "metadata": {},
   "outputs": [
    {
     "name": "stdout",
     "output_type": "stream",
     "text": [
      "Epoch 0 Loss: 4.466\n",
      "Epoch 2 Loss: 3.358\n",
      "Epoch 4 Loss: 2.481\n",
      "Epoch 6 Loss: 1.941\n",
      "Epoch 8 Loss: 1.667\n",
      "Epoch 10 Loss: 1.576\n"
     ]
    }
   ],
   "source": [
    "# Train model\n",
    "model.train()\n",
    "\n",
    "def train():\n",
    "    epoch_loss = 0\n",
    "    for pos, neg in loader:\n",
    "        loss = model.loss(pos, neg)\n",
    "        loss.backward()\n",
    "        optimizer.step()\n",
    "        epoch_loss += loss.detach()\n",
    "    return epoch_loss / len(loader)\n",
    "\n",
    "for i in range(11):\n",
    "    epoch_loss = train()\n",
    "    if i % 2 == 0:\n",
    "        print(f'Epoch {i} Loss: {epoch_loss:.3f}')\n",
    "model.eval();"
   ]
  },
  {
   "cell_type": "markdown",
   "id": "40d4a867-2ea0-4c07-aca7-060353ddc80a",
   "metadata": {},
   "source": [
    "# AD Prediction"
   ]
  },
  {
   "cell_type": "code",
   "execution_count": 7,
   "id": "797bd545-a083-4da9-98f2-e3119b75d911",
   "metadata": {},
   "outputs": [],
   "source": [
    "# Create model\n",
    "class FCL(nn.Module):\n",
    "    def __init__(self, input_dim, output_dim=1):\n",
    "        super().__init__()\n",
    "        \n",
    "        self.input_dim = input_dim\n",
    "        self.output_dim = output_dim\n",
    "        \n",
    "        self.fcl = nn.Linear(self.input_dim, self.output_dim)\n",
    "        self.sigmoid = nn.Sigmoid()\n",
    "        \n",
    "    def forward(self, X):\n",
    "        return self.sigmoid(self.fcl(X))\n",
    "    \n",
    "ad_model = FCL(embedding_dim)\n",
    "ad_optimizer = torch.optim.Adam(ad_model.parameters(), lr=1e-2)\n",
    "ad_criterion = nn.MSELoss()"
   ]
  },
  {
   "cell_type": "code",
   "execution_count": 8,
   "id": "d6cb7039-5bc9-42e1-8cfa-542d875c3448",
   "metadata": {},
   "outputs": [
    {
     "name": "stdout",
     "output_type": "stream",
     "text": [
      "Epoch 0 Loss: 0.287\n",
      "Epoch 10 Loss: 0.251\n",
      "Epoch 20 Loss: 0.248\n",
      "Epoch 30 Loss: 0.248\n",
      "Epoch 40 Loss: 0.248\n",
      "Epoch 50 Loss: 0.248\n",
      "Epoch 60 Loss: 0.248\n",
      "Epoch 70 Loss: 0.249\n",
      "Epoch 80 Loss: 0.248\n",
      "Epoch 90 Loss: 0.249\n",
      "Epoch 100 Loss: 0.249\n"
     ]
    }
   ],
   "source": [
    "# Train model\n",
    "batch_size = 128\n",
    "batches = data.edge_index.shape[1] // batch_size\n",
    "z = model()\n",
    "ad_model.train()\n",
    "for i in range(101):\n",
    "    epoch_loss = 0\n",
    "    for j in range(batches):\n",
    "        seg_size = int(batch_size / 2)\n",
    "        ad_batch_idx = np.random.choice(np.intersect1d(ad_labels, train_idx), seg_size, replace=True)\n",
    "        notad_batch_idx = np.random.choice(np.intersect1d(notad_labels, train_idx), seg_size, replace=True)\n",
    "        batch_idx = np.concatenate([ad_batch_idx, notad_batch_idx])\n",
    "        \n",
    "        true = torch.cat([torch.ones((seg_size, 1)), torch.zeros((seg_size, 1))])\n",
    "        logits = ad_model(z[batch_idx])\n",
    "        loss = ad_criterion(logits, true)\n",
    "        loss.backward()\n",
    "        ad_optimizer.step()\n",
    "        epoch_loss += loss.detach()\n",
    "    epoch_loss /= batches\n",
    "    if i % 10 == 0:\n",
    "        print(f'Epoch {i} Loss: {epoch_loss:.3f}')\n",
    "ad_model.eval();"
   ]
  },
  {
   "cell_type": "markdown",
   "id": "f6b03d85-68c7-459d-951f-e3479bd8153a",
   "metadata": {},
   "source": [
    "# Results"
   ]
  },
  {
   "cell_type": "code",
   "execution_count": 9,
   "id": "9fec9623-88e4-43ec-bead-29530317da16",
   "metadata": {},
   "outputs": [
    {
     "name": "stdout",
     "output_type": "stream",
     "text": [
      "GENE\tPRED\tVALUE\tTRUE\n",
      "TFAM\tnotAD\t0.000\tAD\n",
      "CASS4\tnotAD\t0.000\tAD\n",
      "CDK5\tAD\t1.000\tAD\n",
      "CASP8\tnotAD\t0.000\tAD\n",
      "MAP2\tnotAD\t0.000\tAD\n",
      "ABCA1\tnotAD\t0.000\tAD\n",
      "IDE\tAD\t1.000\tAD\n",
      "TFAM\tnotAD\t0.000\tAD\n",
      "CASP8\tnotAD\t0.000\tAD\n",
      "BCL2\tAD\t1.000\tAD\n",
      "\n",
      "GENE\tPRED\tVALUE\tTRUE\n",
      "FGFR3\tnotAD\t0.000\tnotAD\n",
      "CRKL\tnotAD\t0.000\tnotAD\n",
      "MYLK\tnotAD\t0.000\tnotAD\n",
      "GLI1\tnotAD\t0.000\tnotAD\n",
      "CEP57\tnotAD\t0.000\tnotAD\n",
      "FLT4\tAD\t1.000\tnotAD\n",
      "FLT4\tAD\t1.000\tnotAD\n",
      "ARHGEF18\tnotAD\t0.000\tnotAD\n",
      "CNDP1\tnotAD\t0.000\tnotAD\n",
      "DNMT3B\tnotAD\t0.000\tnotAD\n",
      "\n",
      "GENE\tPRED\tVALUE\tTRUE\n",
      "SLC12A6\tAD\t1.000\tunknown\n",
      "FOXD2\tnotAD\t0.000\tunknown\n",
      "RBP5\tnotAD\t0.000\tunknown\n",
      "ZNF395\tnotAD\t0.000\tunknown\n",
      "CNTN1\tnotAD\t0.000\tunknown\n",
      "TLE2\tnotAD\t0.000\tunknown\n",
      "RBL2\tAD\t1.000\tunknown\n",
      "WDR45\tnotAD\t0.000\tunknown\n",
      "TLK1\tnotAD\t0.000\tunknown\n",
      "HSPBP1\tAD\t1.000\tunknown\n"
     ]
    }
   ],
   "source": [
    "# Predictions\n",
    "pred_val = ad_model(model())\n",
    "pred = np.array(['AD' if ad else 'notAD' for ad in (pred_val > .5)])\n",
    "\n",
    "# Printout\n",
    "print('GENE\\tPRED\\tVALUE\\tTRUE')\n",
    "for i in np.random.choice(np.intersect1d(ad_labels, val_idx), 10, replace=True):\n",
    "    print(f'{genes[i]}\\t{pred[i]}\\t{float(pred_val[i].detach()):.3f}\\tAD')\n",
    "print()\n",
    "print('GENE\\tPRED\\tVALUE\\tTRUE')\n",
    "for i in np.random.choice(np.intersect1d(notad_labels, val_idx), 10, replace=True):\n",
    "    print(f'{genes[i]}\\t{pred[i]}\\t{float(pred_val[i].detach()):.3f}\\tnotAD')\n",
    "print()\n",
    "print('GENE\\tPRED\\tVALUE\\tTRUE')\n",
    "for i in np.random.choice(unknown_labels, 10, replace=True):\n",
    "    print(f'{genes[i]}\\t{pred[i]}\\t{float(pred_val[i].detach()):.3f}\\tunknown')\n",
    "\n",
    "# Write enrichment genes to files\n",
    "ad_enrichment = genes[np.intersect1d(np.argwhere(pred == 'AD'), val_idx)]\n",
    "notad_enrichment = genes[np.intersect1d(np.argwhere(pred == 'notAD'), val_idx)]\n",
    "np.savetxt('AD.txt', ad_enrichment, fmt='%s')\n",
    "np.savetxt('notAD.txt', notad_enrichment, fmt='%s')"
   ]
  },
  {
   "cell_type": "code",
   "execution_count": 10,
   "id": "8be43fc9-d4ad-4825-8ecd-91a45032534f",
   "metadata": {},
   "outputs": [
    {
     "data": {
      "image/png": "[encoded data removed]",
      "text/plain": [
       "<Figure size 640x480 with 1 Axes>"
      ]
     },
     "metadata": {},
     "output_type": "display_data"
    }
   ],
   "source": [
    "# ROC Curve\n",
    "eval_idx = np.intersect1d(val_idx, known_labels)\n",
    "fpr, tpr, thresholds = roc_curve(1.*(labels[eval_idx] == 'AD'), pred_val[eval_idx].detach())\n",
    "plt.plot(fpr, tpr)\n",
    "plt.title(f'ROC Curve ({auc(fpr, tpr)})')\n",
    "plt.xlabel('False Positive Rate')\n",
    "plt.ylabel('True Positive Rate');"
   ]
  },
  {
   "cell_type": "code",
   "execution_count": null,
   "id": "2870e6d0-2bc5-48a0-bba1-56f1efaf7933",
   "metadata": {},
   "outputs": [],
   "source": []
  }
 ],
 "metadata": {
  "kernelspec": {
   "display_name": "Python 3 (ipykernel)",
   "language": "python",
   "name": "python3"
  },
  "language_info": {
   "codemirror_mode": {
    "name": "ipython",
    "version": 3
   },
   "file_extension": ".py",
   "mimetype": "text/x-python",
   "name": "python",
   "nbconvert_exporter": "python",
   "pygments_lexer": "ipython3",
   "version": "3.9.5"
  }
 },
 "nbformat": 4,
 "nbformat_minor": 5
}
